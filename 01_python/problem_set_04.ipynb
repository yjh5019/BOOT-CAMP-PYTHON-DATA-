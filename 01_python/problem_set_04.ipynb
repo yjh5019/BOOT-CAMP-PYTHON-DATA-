{
 "cells": [
  {
   "attachments": {},
   "cell_type": "markdown",
   "metadata": {},
   "source": [
    "# `all()`\n",
    "\n",
    "> all은 인자로 받는 list의 모든 요소가 참(bool로 바꿨을 때 True)이거나\n",
    "> \n",
    "> 인자로 받은 list가 비어있으면 True를 반환합니다.\n",
    "> \n",
    "> 인자로 받은 list에 하나라도 거짓(bool로 바꿨을 때 False)이면 False를 반환합니다.\n",
    "> \n",
    "> 이와 같은 함수 `my_all(x)`을 작성하세요."
   ]
  },
  {
   "cell_type": "code",
   "execution_count": 2,
   "metadata": {},
   "outputs": [
    {
     "name": "stdout",
     "output_type": "stream",
     "text": [
      "True\n",
      "True\n",
      "False\n"
     ]
    }
   ],
   "source": [
    "# 예제 입력 및 출력\n",
    "print(all([]))  # 비었음 => True\n",
    "print(all([1, 2, 5, '6']))  # 모두 bool() 안에 넣었을 때 True => True\n",
    "print(all([[], 2, 5, '6']))  # 첫번째 요소인 빈 리스트가 bool()에 넣었을 때 False => False\n",
    "\n",
    "# 아래에 코드를 작성하세요."
   ]
  },
  {
   "cell_type": "code",
   "execution_count": null,
   "metadata": {},
   "outputs": [],
   "source": [
    "#\n",
    "\n",
    "# 모두 참이면 참 + 빈 것도 참 => 하나라도 False 라면 False\n",
    "def my_all(elements):\n",
    "    for element in elements:\n",
    "        # element 가 False 면 True(if 문 동작)\n",
    "        if not element:\n",
    "            return False\n",
    "    return True"
   ]
  },
  {
   "cell_type": "code",
   "execution_count": null,
   "metadata": {},
   "outputs": [],
   "source": [
    "# 해당 코드를 통해 올바른 결과가 나오는지 확인하세요.\n",
    "print(my_all([]))\n",
    "print(my_all([1, 2, 5, '6']))\n",
    "print(my_all([[], 2, 5, '6']))"
   ]
  },
  {
   "attachments": {},
   "cell_type": "markdown",
   "metadata": {},
   "source": [
    "# `any()`\n",
    "\n",
    "> all은 인자로 받는 list의 요소가 하나라도 참(bool로 바꿨을 때 True)이면 True를 반환합니다.\n",
    "> \n",
    "> 인자로 받은 list의 요소가 모두 거짓(bool로 바꿨을 때 False)이거나 비어있으면 False를 반환합니다.\n",
    "> \n",
    "> 이와 같은 함수 `my_any(x)`을 작성하세요."
   ]
  },
  {
   "cell_type": "code",
   "execution_count": 5,
   "metadata": {},
   "outputs": [
    {
     "name": "stdout",
     "output_type": "stream",
     "text": [
      "True\n",
      "True\n",
      "False\n",
      "False\n"
     ]
    }
   ],
   "source": [
    "# 예제 입력 및 출력\n",
    "print(any([1, 2, 5, '6']))  # 하나라도 참 => True\n",
    "print(any([[], 2, 5, '6']))  # 하나라도 참 => True\n",
    "print(any([]))  # 비었음 => False\n",
    "print(any([0]))  # 모두 거짓 => False"
   ]
  },
  {
   "cell_type": "code",
   "execution_count": null,
   "metadata": {},
   "outputs": [],
   "source": [
    "#"
   ]
  },
  {
   "cell_type": "code",
   "execution_count": null,
   "metadata": {},
   "outputs": [],
   "source": [
    "# 해당 코드를 통해 올바른 결과가 나오는지 확인하세요.\n",
    "print(my_any([1, 2, 5, '6']))  \n",
    "print(my_any([[], 2, 5, '6']))  \n",
    "print(my_any([]))\n",
    "print(my_any([0]))"
   ]
  }
 ],
 "metadata": {
  "kernelspec": {
   "display_name": "Python 3",
   "language": "python",
   "name": "python3"
  },
  "language_info": {
   "codemirror_mode": {
    "name": "ipython",
    "version": 3
   },
   "file_extension": ".py",
   "mimetype": "text/x-python",
   "name": "python",
   "nbconvert_exporter": "python",
   "pygments_lexer": "ipython3",
   "version": "3.10.9"
  },
  "latex_envs": {
   "LaTeX_envs_menu_present": true,
   "autoclose": false,
   "autocomplete": true,
   "bibliofile": "biblio.bib",
   "cite_by": "apalike",
   "current_citInitial": 1,
   "eqLabelWithNumbers": true,
   "eqNumInitial": 1,
   "hotkeys": {
    "equation": "Ctrl-E",
    "itemize": "Ctrl-I"
   },
   "labels_anchors": false,
   "latex_user_defs": false,
   "report_style_numbering": false,
   "user_envs_cfg": false
  },
  "toc": {
   "base_numbering": 1,
   "nav_menu": {},
   "number_sections": true,
   "sideBar": true,
   "skip_h1_title": false,
   "title_cell": "Table of Contents",
   "title_sidebar": "Contents",
   "toc_cell": false,
   "toc_position": {},
   "toc_section_display": true,
   "toc_window_display": false
  },
  "vscode": {
   "interpreter": {
    "hash": "51d354aa4721e008858a28cad10f7efbfd288bcf50ac31411bfc117a31ae17c9"
   }
  }
 },
 "nbformat": 4,
 "nbformat_minor": 2
}
