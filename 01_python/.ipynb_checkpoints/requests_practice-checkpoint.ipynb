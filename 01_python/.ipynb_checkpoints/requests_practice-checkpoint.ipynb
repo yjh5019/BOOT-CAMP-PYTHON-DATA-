{
 "cells": [
  {
   "cell_type": "code",
   "execution_count": 11,
   "id": "d6b32bb7",
   "metadata": {},
   "outputs": [
    {
     "data": {
      "text/plain": [
       "100923993000"
      ]
     },
     "execution_count": 11,
     "metadata": {},
     "output_type": "execute_result"
    }
   ],
   "source": [
    "import requests   # 얘를 통해서 요청을 보냄\n",
    "\n",
    "url = 'https://www.dhlottery.co.kr/common.do?method=getLottoNumber&drwNo=1046'\n",
    "\n",
    "# 1. 브라우저에게\n",
    "\n",
    "# 2.   url을 넘겨서\n",
    "# response = requests.get(url)   #해당 url을 통해 데이터를 가져오기\n",
    "# response.text\n",
    "# response.json()     # 데이터 가져오는 방법\n",
    "data = requests.get(url).json()    # 데이터 가져오는 방법\n",
    "data\n",
    "\n",
    "# 3. 달라고 한다.(엔터)\n",
    "data['totSellamnt']\n",
    "for no in range(1036, 1047):\n",
    "    url = 'https://www.dhlottery.co.kr/common.do?method=getLottoNumber&drwNo=1046'\n",
    "    print(no)\n",
    "    dat\n"
   ]
  }
 ],
 "metadata": {
  "kernelspec": {
   "display_name": "Python 3 (ipykernel)",
   "language": "python",
   "name": "python3"
  },
  "language_info": {
   "codemirror_mode": {
    "name": "ipython",
    "version": 3
   },
   "file_extension": ".py",
   "mimetype": "text/x-python",
   "name": "python",
   "nbconvert_exporter": "python",
   "pygments_lexer": "ipython3",
   "version": "3.10.9"
  }
 },
 "nbformat": 4,
 "nbformat_minor": 5
}
