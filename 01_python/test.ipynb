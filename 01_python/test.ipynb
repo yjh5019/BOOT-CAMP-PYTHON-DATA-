{
 "cells": [
  {
   "cell_type": "code",
   "execution_count": null,
   "id": "d5ea9a72",
   "metadata": {},
   "outputs": [],
   "source": [
    "print('hello')\n",
    "\n",
    "\n",
    "pr"
   ]
  }
 ],
 "metadata": {
  "kernelspec": {
   "display_name": "Python 3",
   "language": "python",
   "name": "python3"
  },
  "language_info": {
   "codemirror_mode": {
    "name": "ipython",
    "version": 3
   },
   "file_extension": ".py",
   "mimetype": "text/x-python",
   "name": "python",
   "nbconvert_exporter": "python",
   "pygments_lexer": "ipython3",
   "version": "3.10.9 (tags/v3.10.9:1dd9be6, Dec  6 2022, 20:01:21) [MSC v.1934 64 bit (AMD64)]"
  },
  "vscode": {
   "interpreter": {
    "hash": "37e02d1ae17ccc681227821d2bdb56cc0a2689e59906943c512b472ffee6a0ff"
   }
  }
 },
 "nbformat": 4,
 "nbformat_minor": 5
}
