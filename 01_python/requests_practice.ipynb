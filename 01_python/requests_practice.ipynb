{
 "cells": [
  {
   "cell_type": "code",
   "execution_count": null,
   "id": "c5633a86",
   "metadata": {},
   "outputs": [],
   "source": [
    "key = '209348db59ea529a8b15b0ba6128d27b'\n",
    "url = 'https://api.themoviedb.org/3//movie/title?api_key=209348db59ea529a8b15b0ba6128d27b&language=ko-KR'\n",
    "data = requests.get(url).json()\n",
    "\n",
    "from pprint import pprint\n",
    "\n",
    "\n",
    "def recommendation(title):\n",
    "    pass \n",
    "    # 여기에 코드를 작성합니다.  \n",
    "\n",
    "\n",
    "if __name__ == '__main__':\n",
    "    \"\"\"\n",
    "    제목에 해당하는 영화가 있으면\n",
    "    해당 영화의 id를 기반으로 추천 영화 목록 구성.\n",
    "    추천 영화가 없을 경우 [].\n",
    "    영화 id검색에 실패할 경우 None.\n",
    "    \"\"\"\n",
    "    pprint(recommendation('기생충'))\n",
    "    # ['조커', '조조 래빗', '1917', ..., '토이 스토리 4', '스파이더맨: 파 프롬 홈']\n",
    "    pprint(recommendation('그래비티'))\n",
    "    # []  => 추천 영화 없음\n",
    "    pprint(recommendation('검색할 수 없는 영화'))\n",
    "    # => None\n"
   ]
  },
  {
   "cell_type": "code",
   "execution_count": null,
   "id": "fa627200",
   "metadata": {},
   "outputs": [],
   "source": [
    "{'ㅁ'}"
   ]
  },
  {
   "cell_type": "code",
   "execution_count": null,
   "id": "2e4add82",
   "metadata": {},
   "outputs": [],
   "source": []
  },
  {
   "cell_type": "code",
   "execution_count": null,
   "id": "46324a9a",
   "metadata": {},
   "outputs": [],
   "source": []
  },
  {
   "cell_type": "code",
   "execution_count": null,
   "id": "c2ca2138",
   "metadata": {},
   "outputs": [],
   "source": []
  },
  {
   "cell_type": "code",
   "execution_count": null,
   "id": "b4ceee0d",
   "metadata": {},
   "outputs": [],
   "source": []
  },
  {
   "cell_type": "code",
   "execution_count": null,
   "id": "7c1e7d10",
   "metadata": {},
   "outputs": [],
   "source": []
  },
  {
   "cell_type": "code",
   "execution_count": null,
   "id": "48268df3",
   "metadata": {},
   "outputs": [],
   "source": []
  },
  {
   "cell_type": "code",
   "execution_count": null,
   "id": "5650964a",
   "metadata": {},
   "outputs": [],
   "source": []
  },
  {
   "cell_type": "code",
   "execution_count": null,
   "id": "f7e8fb03",
   "metadata": {},
   "outputs": [],
   "source": []
  },
  {
   "cell_type": "code",
   "execution_count": null,
   "id": "7d697d07",
   "metadata": {},
   "outputs": [],
   "source": []
  },
  {
   "cell_type": "code",
   "execution_count": null,
   "id": "02759c5a",
   "metadata": {},
   "outputs": [],
   "source": []
  },
  {
   "cell_type": "code",
   "execution_count": null,
   "id": "91bfb325",
   "metadata": {},
   "outputs": [],
   "source": []
  },
  {
   "cell_type": "code",
   "execution_count": null,
   "id": "7b6c7f0a",
   "metadata": {},
   "outputs": [],
   "source": []
  },
  {
   "cell_type": "code",
   "execution_count": null,
   "id": "a8760d8a",
   "metadata": {},
   "outputs": [],
   "source": []
  },
  {
   "cell_type": "code",
   "execution_count": 11,
   "id": "bcc661e7",
   "metadata": {},
   "outputs": [
    {
     "data": {
      "text/plain": [
       "100923993000"
      ]
     },
     "execution_count": 11,
     "metadata": {},
     "output_type": "execute_result"
    }
   ],
   "source": [
    "import requests   # 얘를 통해서 요청을 보냄\n",
    "\n",
    "url = 'https://www.dhlottery.co.kr/common.do?method=getLottoNumber&drwNo=1046'\n",
    "\n",
    "# 1. 브라우저에게\n",
    "\n",
    "# 2.   url을 넘겨서\n",
    "# response = requests.get(url)   #해당 url을 통해 데이터를 가져오기\n",
    "# response.text\n",
    "# response.json()     # 데이터 가져오는 방법\n",
    "data = requests.get(url).json()    # 데이터 가져오는 방법\n",
    "data\n",
    "\n",
    "# 3. 달라고 한다.(엔터)\n",
    "data['totSellamnt']\n",
    "for no in range(1036, 1047):\n",
    "    url = 'https://www.dhlottery.co.kr/common.do?method=getLottoNumber&drwNo=1046'\n",
    "    print(no)\n",
    "    dat\n"
   ]
  },
  {
   "cell_type": "code",
   "execution_count": 14,
   "id": "db68de20",
   "metadata": {},
   "outputs": [
    {
     "ename": "NameError",
     "evalue": "name 'pprint' is not defined",
     "output_type": "error",
     "traceback": [
      "\u001b[1;31m-------------------------------------------------------------------------\u001b[0m",
      "\u001b[1;31mNameError\u001b[0m                               Traceback (most recent call last)",
      "Cell \u001b[1;32mIn[14], line 10\u001b[0m\n\u001b[0;32m      6\u001b[0m \u001b[38;5;28;01mif\u001b[39;00m \u001b[38;5;18m__name__\u001b[39m \u001b[38;5;241m==\u001b[39m \u001b[38;5;124m'\u001b[39m\u001b[38;5;124m__main__\u001b[39m\u001b[38;5;124m'\u001b[39m:\n\u001b[0;32m      7\u001b[0m     \u001b[38;5;124;03m\"\"\"\u001b[39;00m\n\u001b[0;32m      8\u001b[0m \u001b[38;5;124;03m    popular 영화목록을 정렬하여 평점순으로 5개 영화.\u001b[39;00m\n\u001b[0;32m      9\u001b[0m \u001b[38;5;124;03m    \"\"\"\u001b[39;00m\n\u001b[1;32m---> 10\u001b[0m     \u001b[43mpprint\u001b[49m(ranking())\n\u001b[0;32m     11\u001b[0m     \u001b[38;5;66;03m# => 영화정보 순서대로 출력\u001b[39;00m\n",
      "\u001b[1;31mNameError\u001b[0m: name 'pprint' is not defined"
     ]
    }
   ],
   "source": [
    "def ranking():\n",
    "    mv_list = []\n",
    "    vote = data['results']\n",
    "    mv_list.append(vote[0:6])\n",
    "    return mv_list\n",
    "if __name__ == '__main__':\n",
    "    \"\"\"\n",
    "    popular 영화목록을 정렬하여 평점순으로 5개 영화.\n",
    "    \"\"\"\n",
    "    pprint(ranking())\n",
    "    # => 영화정보 순서대로 출력\n",
    "    "
   ]
  },
  {
   "cell_type": "code",
   "execution_count": 12,
   "id": "e722c626",
   "metadata": {},
   "outputs": [
    {
     "ename": "NameError",
     "evalue": "name 'pprint' is not defined",
     "output_type": "error",
     "traceback": [
      "\u001b[1;31m-------------------------------------------------------------------------\u001b[0m",
      "\u001b[1;31mNameError\u001b[0m                               Traceback (most recent call last)",
      "Cell \u001b[1;32mIn[12], line 10\u001b[0m\n\u001b[0;32m      6\u001b[0m \u001b[38;5;28;01mif\u001b[39;00m \u001b[38;5;18m__name__\u001b[39m \u001b[38;5;241m==\u001b[39m \u001b[38;5;124m'\u001b[39m\u001b[38;5;124m__main__\u001b[39m\u001b[38;5;124m'\u001b[39m:\n\u001b[0;32m      7\u001b[0m     \u001b[38;5;124;03m\"\"\"\u001b[39;00m\n\u001b[0;32m      8\u001b[0m \u001b[38;5;124;03m    popular 영화목록을 정렬하여 평점순으로 5개 영화.\u001b[39;00m\n\u001b[0;32m      9\u001b[0m \u001b[38;5;124;03m    \"\"\"\u001b[39;00m\n\u001b[1;32m---> 10\u001b[0m     \u001b[43mpprint\u001b[49m(ranking())\n\u001b[0;32m     11\u001b[0m     \u001b[38;5;66;03m# => 영화정보 순서대로 출력\u001b[39;00m\n",
      "\u001b[1;31mNameError\u001b[0m: name 'pprint' is not defined"
     ]
    }
   ],
   "source": [
    "def ranking():\n",
    "    mv_list = []\n",
    "    vote = data['results']\n",
    "    mv_list.append(vote[0:6])\n",
    "    return mv_list\n",
    "if __name__ == '__main__':\n",
    "    \"\"\"\n",
    "    popular 영화목록을 정렬하여 평점순으로 5개 영화.\n",
    "    \"\"\"\n",
    "    pprint(ranking())\n",
    "    # => 영화정보 순서대로 출력"
   ]
  },
  {
   "cell_type": "code",
   "execution_count": 13,
   "id": "36b1226f",
   "metadata": {},
   "outputs": [
    {
     "name": "stdout",
     "output_type": "stream",
     "text": [
      "20\n"
     ]
    }
   ],
   "source": [
    "key = '209348db59ea529a8b15b0ba6128d27b'\n",
    "url = 'https://api.themoviedb.org/3//movie/popular?api_key=209348db59ea529a8b15b0ba6128d27b&language=ko-KR'\n",
    "data = requests.get(url).json()\n",
    "def popular_count():\n",
    "    return len(data['results'])\n",
    "    \n",
    "\n",
    "\n",
    "if __name__ == '__main__':\n",
    "    \"\"\"\n",
    "    popular 영화목록의 개수 출력.\n",
    "    \"\"\"\n",
    "    print(popular_count())\n",
    "    # => 20"
   ]
  },
  {
   "cell_type": "code",
   "execution_count": 77,
   "id": "3fe3e085",
   "metadata": {},
   "outputs": [
    {
     "name": "stdout",
     "output_type": "stream",
     "text": [
      "[('e', 1), ('d', 2), ('c', 3), ('b', 2), ('a', 1)]\n"
     ]
    }
   ],
   "source": [
    "my_dict = {'c': 3, 'a': 1, 'b': 2, 'e': 1, 'd': 2}\n",
    "\n",
    "sorted_dict = sorted(my_dict.items(), key = lambda item: item[0], reverse = True)\n",
    "\n",
    "print(sorted_dict)"
   ]
  },
  {
   "cell_type": "code",
   "execution_count": 86,
   "id": "b667b0c3",
   "metadata": {},
   "outputs": [
    {
     "data": {
      "text/plain": [
       "dict_items([('c', 3), ('a', 1), ('b', 2), ('e', 1), ('d', 2)])"
      ]
     },
     "execution_count": 86,
     "metadata": {},
     "output_type": "execute_result"
    }
   ],
   "source": [
    "my_dict = {'c': 3, 'a': 1, 'b': 2, 'e': 1, 'd': 2}\n",
    "my_dict.items()\n",
    "for key, val in my_dict.items():\n",
    "    print(\"key : {} value : {}\".format(key,val))"
   ]
  },
  {
   "cell_type": "code",
   "execution_count": 56,
   "id": "26192411",
   "metadata": {},
   "outputs": [
    {
     "name": "stdout",
     "output_type": "stream",
     "text": [
      "[{'adult': False,\n",
      "  'backdrop_path': '/tQ91wWQJ2WRNDXwxuO7GCXX5VPC.jpg',\n",
      "  'genre_ids': [878, 28, 12],\n",
      "  'id': 76600,\n",
      "  'original_language': 'en',\n",
      "  'original_title': 'Avatar: The Way of Water',\n",
      "  'overview': '판도라 행성에서 제이크 설리와 네이티리가 이룬 가족이 겪게 되는 무자비한 위협과 살아남기 위해 떠나야 하는 긴 '\n",
      "              '여정과 전투, 그리고 견뎌내야 할 상처에 대한 이야기를 그렸다.',\n",
      "  'popularity': 4109.455,\n",
      "  'poster_path': '/z56bVX93oRG6uDeMACR7cXCnAbh.jpg',\n",
      "  'release_date': '2022-12-14',\n",
      "  'title': '아바타: 물의 길',\n",
      "  'video': False,\n",
      "  'vote_average': 8.1,\n",
      "  'vote_count': 1001},\n",
      " {'adult': False,\n",
      "  'backdrop_path': '/vSvogVWimBiaKx9dVCzirh3u9qS.jpg',\n",
      "  'genre_ids': [16, 14, 18],\n",
      "  'id': 555604,\n",
      "  'original_language': 'en',\n",
      "  'original_title': \"Guillermo del Toro's Pinocchio\",\n",
      "  'overview': '많은 이들의 사랑을 받은 목각 인형 피노키오의 마법 같은 모험. 현실의 한계를 뛰어넘어, 새 생명을 불어넣는 '\n",
      "              '강력한 사랑의 힘이 펼쳐진다. 이탈리아 고전 동화 \"피노키오\"가 스톱모션 뮤지컬로 재탄생한다. 말썽꾸러기 '\n",
      "              '피노키오는 과연 인간 소년이 될 수 있을까? 그 여정을 따라가 보자.',\n",
      "  'popularity': 2769.264,\n",
      "  'poster_path': '/6bdUtxydFXLtgcxHMMvlkNnRZWg.jpg',\n",
      "  'release_date': '2022-11-09',\n",
      "  'title': '기예르모 델토로의 피노키오',\n",
      "  'video': False,\n",
      "  'vote_average': 8.5,\n",
      "  'vote_count': 909}]\n"
     ]
    }
   ],
   "source": [
    "key = '209348db59ea529a8b15b0ba6128d27b'\n",
    "url = 'https://api.themoviedb.org/3//movie/popular?api_key=209348db59ea529a8b15b0ba6128d27b&language=ko-KR'\n",
    "data = requests.get(url).json()\n",
    "\n",
    "from pprint import pprint\n",
    "def vote_average_movies():\n",
    "    mv_list = []\n",
    "    for vote in data['results']:\n",
    "        if vote['vote_average'] >= 8:\n",
    "            mv_list.append(vote)\n",
    "    return mv_list\n",
    "    # 여기에 코드를 작성합니다.\n",
    "if __name__ == '__main__':\n",
    "    \"\"\"\n",
    "    popular 영화목록중 vote_average가 8 이상인 영화목록 출력.\n",
    "    \"\"\"\n",
    "    pprint(vote_average_movies())\n",
    "    # => 영화정보 순서대로 출력"
   ]
  },
  {
   "cell_type": "code",
   "execution_count": 62,
   "id": "cc1cb4ab",
   "metadata": {},
   "outputs": [
    {
     "ename": "TypeError",
     "evalue": "list indices must be integers or slices, not str",
     "output_type": "error",
     "traceback": [
      "\u001b[1;31m-------------------------------------------------------------------------\u001b[0m",
      "\u001b[1;31mTypeError\u001b[0m                               Traceback (most recent call last)",
      "Cell \u001b[1;32mIn[62], line 27\u001b[0m\n\u001b[0;32m     23\u001b[0m \u001b[38;5;28;01mif\u001b[39;00m \u001b[38;5;18m__name__\u001b[39m \u001b[38;5;241m==\u001b[39m \u001b[38;5;124m'\u001b[39m\u001b[38;5;124m__main__\u001b[39m\u001b[38;5;124m'\u001b[39m:\n\u001b[0;32m     24\u001b[0m     \u001b[38;5;124;03m\"\"\"\u001b[39;00m\n\u001b[0;32m     25\u001b[0m \u001b[38;5;124;03m    popular 영화목록을 정렬하여 평점순으로 5개 영화.\u001b[39;00m\n\u001b[0;32m     26\u001b[0m \u001b[38;5;124;03m    \"\"\"\u001b[39;00m\n\u001b[1;32m---> 27\u001b[0m     pprint(\u001b[43mranking\u001b[49m\u001b[43m(\u001b[49m\u001b[43m)\u001b[49m)\n\u001b[0;32m     28\u001b[0m     \u001b[38;5;66;03m# => 영화정보 순서대로 출력\u001b[39;00m\n",
      "Cell \u001b[1;32mIn[62], line 12\u001b[0m, in \u001b[0;36mranking\u001b[1;34m()\u001b[0m\n\u001b[0;32m      9\u001b[0m my_list \u001b[38;5;241m=\u001b[39m []\n\u001b[0;32m     11\u001b[0m vote \u001b[38;5;241m=\u001b[39m data[\u001b[38;5;124m'\u001b[39m\u001b[38;5;124mresults\u001b[39m\u001b[38;5;124m'\u001b[39m]\n\u001b[1;32m---> 12\u001b[0m \u001b[38;5;28mdict\u001b[39m \u001b[38;5;241m=\u001b[39m \u001b[43mvote\u001b[49m\u001b[43m[\u001b[49m\u001b[38;5;124;43m'\u001b[39;49m\u001b[38;5;124;43mvote_average\u001b[39;49m\u001b[38;5;124;43m'\u001b[39;49m\u001b[43m]\u001b[49m\n\u001b[0;32m     13\u001b[0m \u001b[38;5;28mprint\u001b[39m(\u001b[38;5;28mlist\u001b[39m(\u001b[38;5;28mdict\u001b[39m\u001b[38;5;241m.\u001b[39mvalues()))\n",
      "\u001b[1;31mTypeError\u001b[0m: list indices must be integers or slices, not str"
     ]
    }
   ],
   "source": [
    "key = '209348db59ea529a8b15b0ba6128d27b'\n",
    "url = 'https://api.themoviedb.org/3//movie/popular?api_key=209348db59ea529a8b15b0ba6128d27b&language=ko-KR'\n",
    "data = requests.get(url).json()\n",
    "\n",
    "from pprint import pprint\n",
    "\n",
    "\n",
    "def ranking():\n",
    "    my_list = []\n",
    "    \n",
    "    \n",
    "    \n",
    "    \n",
    "    \n",
    "    \n",
    "    for vote in data['results']:\n",
    "        dict = list(vote['vote_average'].values)\n",
    "        print(dickt)\n",
    "       \n",
    "       # if vote['vote_average'] >= 0:\n",
    "        #    my_list.append(vote)\n",
    "        # return my_list\n",
    "        # vote['vote_average'].sort(reverse=True)\n",
    "        # for top_vote_average in vote['vote_average']\n",
    "        #        top_vote_average.sort(reverse=True)\n",
    "   \n",
    "\n",
    "\n",
    "if __name__ == '__main__':\n",
    "    \"\"\"\n",
    "    popular 영화목록을 정렬하여 평점순으로 5개 영화.\n",
    "    \"\"\"\n",
    "    pprint(ranking())\n",
    "    # => 영화정보 순서대로 출력\n"
   ]
  },
  {
   "cell_type": "code",
   "execution_count": 122,
   "id": "4478b08f",
   "metadata": {},
   "outputs": [
    {
     "name": "stdout",
     "output_type": "stream",
     "text": [
      "[{'adult': False,\n",
      "  'backdrop_path': '/vSvogVWimBiaKx9dVCzirh3u9qS.jpg',\n",
      "  'genre_ids': [16, 14, 18],\n",
      "  'id': 555604,\n",
      "  'original_language': 'en',\n",
      "  'original_title': \"Guillermo del Toro's Pinocchio\",\n",
      "  'overview': '많은 이들의 사랑을 받은 목각 인형 피노키오의 마법 같은 모험. 현실의 한계를 뛰어넘어, 새 생명을 불어넣는 '\n",
      "              '강력한 사랑의 힘이 펼쳐진다. 이탈리아 고전 동화 \"피노키오\"가 스톱모션 뮤지컬로 재탄생한다. 말썽꾸러기 '\n",
      "              '피노키오는 과연 인간 소년이 될 수 있을까? 그 여정을 따라가 보자.',\n",
      "  'popularity': 2769.264,\n",
      "  'poster_path': '/6bdUtxydFXLtgcxHMMvlkNnRZWg.jpg',\n",
      "  'release_date': '2022-11-09',\n",
      "  'title': '기예르모 델토로의 피노키오',\n",
      "  'video': False,\n",
      "  'vote_average': 8.5,\n",
      "  'vote_count': 909},\n",
      " {'adult': False,\n",
      "  'backdrop_path': '/tQ91wWQJ2WRNDXwxuO7GCXX5VPC.jpg',\n",
      "  'genre_ids': [878, 28, 12],\n",
      "  'id': 76600,\n",
      "  'original_language': 'en',\n",
      "  'original_title': 'Avatar: The Way of Water',\n",
      "  'overview': '판도라 행성에서 제이크 설리와 네이티리가 이룬 가족이 겪게 되는 무자비한 위협과 살아남기 위해 떠나야 하는 긴 '\n",
      "              '여정과 전투, 그리고 견뎌내야 할 상처에 대한 이야기를 그렸다.',\n",
      "  'popularity': 4109.455,\n",
      "  'poster_path': '/z56bVX93oRG6uDeMACR7cXCnAbh.jpg',\n",
      "  'release_date': '2022-12-14',\n",
      "  'title': '아바타: 물의 길',\n",
      "  'video': False,\n",
      "  'vote_average': 8.1,\n",
      "  'vote_count': 1001},\n",
      " {'adult': False,\n",
      "  'backdrop_path': '/7zQJYV02yehWrQN6NjKsBorqUUS.jpg',\n",
      "  'genre_ids': [28, 18, 36],\n",
      "  'id': 724495,\n",
      "  'original_language': 'en',\n",
      "  'original_title': 'The Woman King',\n",
      "  'overview': '',\n",
      "  'popularity': 1975.04,\n",
      "  'poster_path': '/438QXt1E3WJWb3PqNniK0tAE5c1.jpg',\n",
      "  'release_date': '2022-09-15',\n",
      "  'title': '더 우먼 킹',\n",
      "  'video': False,\n",
      "  'vote_average': 7.8,\n",
      "  'vote_count': 815},\n",
      " {'adult': False,\n",
      "  'backdrop_path': '/sfw4m2tOgQRzhF6VXxaXGfd1vX.jpg',\n",
      "  'genre_ids': [28, 12, 14, 878],\n",
      "  'id': 19995,\n",
      "  'original_language': 'en',\n",
      "  'original_title': 'Avatar',\n",
      "  'overview': '가까운 미래, 지구는 에너지 고갈 문제를 해결하기 위해 머나먼 행성 판도라에서 대체 자원을 채굴하기 시작한다. '\n",
      "              '하지만 판도라의 독성을 지닌 대기로 인해 자원 획득에 어려움을 겪게 된 인류는 판도라의 토착민 나비의 외형에 '\n",
      "              '인간의 의식을 주입, 원격 조종이 가능한 새로운 생명체를 탄생시키는 프로그램을 개발한다. 한편 하반신이 마비된 '\n",
      "              '전직 해병대원 제이크 설리는 아바타 프로그램에 참가할 것을 제안받는다. 그 곳에서 자신의 아바타를 통해 자유롭게 '\n",
      "              '걸을 수 있게 된 제이크는 자원 채굴을 막으려는 나비의 무리에 침투하라는 임무를 부여받는데...',\n",
      "  'popularity': 2698.181,\n",
      "  'poster_path': '/zygmx5abXeDpr3fWYX4jlXFZ1wh.jpg',\n",
      "  'release_date': '2009-12-15',\n",
      "  'title': '아바타',\n",
      "  'video': False,\n",
      "  'vote_average': 7.5,\n",
      "  'vote_count': 27099},\n",
      " {'adult': False,\n",
      "  'backdrop_path': '/xDMIl84Qo5Tsu62c9DGWhmPI67A.jpg',\n",
      "  'genre_ids': [28, 12, 878],\n",
      "  'id': 505642,\n",
      "  'original_language': 'en',\n",
      "  'original_title': 'Black Panther: Wakanda Forever',\n",
      "  'overview': '국왕이자 블랙 팬서인 티찰라의 죽음 이후 수많은 강대국으로부터 위협을 받게 된 와칸다. 라몬다, 슈리 그리고 '\n",
      "              '나키아, 오코예, 음바쿠는 각자 사명감을 갖고 와칸다를 지키기 위해 외로운 싸움을 이어간다. 한편, 비브라늄의 '\n",
      "              '패권을 둘러싼 미스터리한 음모와 함께 깊은 해저에서 모습을 드러낸 최강의 적 네이머와 탈로칸의 전사들은 와칸다를 '\n",
      "              '향해 무차별 공격을 퍼붓기 시작하는데…',\n",
      "  'popularity': 1313.151,\n",
      "  'poster_path': '/3PCRWLeqp5y20k6XVzcamZR3BWF.jpg',\n",
      "  'release_date': '2022-11-09',\n",
      "  'title': '블랙 팬서: 와칸다 포에버',\n",
      "  'video': False,\n",
      "  'vote_average': 7.5,\n",
      "  'vote_count': 1415}]\n"
     ]
    }
   ],
   "source": [
    "key = '209348db59ea529a8b15b0ba6128d27b'\n",
    "url = 'https://api.themoviedb.org/3//movie/popular?api_key=209348db59ea529a8b15b0ba6128d27b&language=ko-KR'\n",
    "data = requests.get(url).json()\n",
    "from pprint import pprint\n",
    "\n",
    "\n",
    "def ranking():\n",
    "    mv_list = []\n",
    "    vote = data['results']\n",
    "    for mv in vote:\n",
    "        mv_list.append(mv)\n",
    "    mv_list.sort(key = lambda item: item['vote_average'], reverse = True)\n",
    "    return mv_list[0:5]\n",
    "\n",
    "\n",
    "if __name__ == '__main__':\n",
    "    \"\"\"\n",
    "    popular 영화목록을 정렬하여 평점순으로 5개 영화.\n",
    "    \"\"\"\n",
    "    pprint(ranking())\n",
    "    # => 영화정보 순서대로 출력"
   ]
  },
  {
   "cell_type": "code",
   "execution_count": 72,
   "id": "c484a0ee",
   "metadata": {},
   "outputs": [
    {
     "name": "stdout",
     "output_type": "stream",
     "text": [
      "[4, 8, 2]\n"
     ]
    }
   ],
   "source": [
    "dict = {'b': 4, 1: 8, 'a': 2}\n",
    "lst = list(dict.values())\n",
    "print( lst )"
   ]
  },
  {
   "cell_type": "code",
   "execution_count": 71,
   "id": "ddc549d9",
   "metadata": {},
   "outputs": [
    {
     "ename": "SyntaxError",
     "evalue": "incomplete input (4244298650.py, line 2)",
     "output_type": "error",
     "traceback": [
      "\u001b[1;36m  Cell \u001b[1;32mIn[71], line 2\u001b[1;36m\u001b[0m\n\u001b[1;33m    print(list(dict.values())\u001b[0m\n\u001b[1;37m                             ^\u001b[0m\n\u001b[1;31mSyntaxError\u001b[0m\u001b[1;31m:\u001b[0m incomplete input\n"
     ]
    }
   ],
   "source": []
  },
  {
   "cell_type": "code",
   "execution_count": 76,
   "id": "e42475af",
   "metadata": {},
   "outputs": [
    {
     "data": {
      "text/plain": [
       "'choi'"
      ]
     },
     "execution_count": 76,
     "metadata": {},
     "output_type": "execute_result"
    }
   ],
   "source": [
    "family = {'boy': 'choi', 'girl': 'kim', 'baby': 'choi'}\n",
    "family['boy']"
   ]
  },
  {
   "cell_type": "code",
   "execution_count": 112,
   "id": "b79e91fc",
   "metadata": {},
   "outputs": [
    {
     "data": {
      "text/plain": [
       "{'q': 10, 'w': 11, 'e': 12}"
      ]
     },
     "execution_count": 112,
     "metadata": {},
     "output_type": "execute_result"
    }
   ],
   "source": [
    "w = {\"a\":1, \"b\":[{\"q\":10, \"w\":11, \"e\":12}], \"c\":3, \"d\":4}\n",
    "\n",
    "w['b'][0]\n",
    "\n",
    "\n",
    "\n"
   ]
  },
  {
   "cell_type": "code",
   "execution_count": 100,
   "id": "67092cae",
   "metadata": {},
   "outputs": [
    {
     "ename": "SyntaxError",
     "evalue": "unmatched ')' (195119052.py, line 9)",
     "output_type": "error",
     "traceback": [
      "\u001b[1;36m  Cell \u001b[1;32mIn[100], line 9\u001b[1;36m\u001b[0m\n\u001b[1;33m    a =  vote['vote_average'])\u001b[0m\n\u001b[1;37m                             ^\u001b[0m\n\u001b[1;31mSyntaxError\u001b[0m\u001b[1;31m:\u001b[0m unmatched ')'\n"
     ]
    }
   ],
   "source": [
    "key = '209348db59ea529a8b15b0ba6128d27b'\n",
    "url = 'https://api.themoviedb.org/3//movie/popular?api_key=209348db59ea529a8b15b0ba6128d27b&language=ko-KR'\n",
    "data = requests.get(url).json()\n",
    "\n",
    "from pprint import pprint\n",
    "def vote_average_movies():\n",
    "    mv_list = []\n",
    "    for vote in data['results']:\n",
    "        a =  vote['vote_average'])\n",
    "        return print()\n",
    "            \n",
    "    # 여기에 코드를 작성합니다.\n",
    "if __name__ == '__main__':\n",
    "    \"\"\"\n",
    "    popular 영화목록중 vote_average가 8 이상인 영화목록 출력.\n",
    "    \"\"\"\n",
    "    pprint(vote_average_movies())\n",
    "    # => 영화정보 순서대로 출력\n",
    "    "
   ]
  },
  {
   "cell_type": "code",
   "execution_count": 75,
   "id": "e58d7bda",
   "metadata": {},
   "outputs": [
    {
     "name": "stdout",
     "output_type": "stream",
     "text": [
      "[4, 8, 2]\n"
     ]
    }
   ],
   "source": [
    "dict = {'b': 4, 'c': 8, 'a': 2}\n",
    "lst = list(dict.values())\n",
    "print(lst)"
   ]
  },
  {
   "cell_type": "code",
   "execution_count": 102,
   "id": "f32eb0bc",
   "metadata": {},
   "outputs": [
    {
     "name": "stdout",
     "output_type": "stream",
     "text": [
      "[1, 2, 3, 4]\n"
     ]
    }
   ],
   "source": [
    "list = [1,2,3,4,]\n",
    "print(list)"
   ]
  },
  {
   "cell_type": "code",
   "execution_count": 124,
   "id": "aca54b3d",
   "metadata": {},
   "outputs": [
    {
     "data": {
      "text/plain": [
       "{'b': 3, 'c': 8, 'a': 2}"
      ]
     },
     "execution_count": 124,
     "metadata": {},
     "output_type": "execute_result"
    }
   ],
   "source": [
    "a = [\n",
    "    {'b': 1, 'c': 4, 'a': 9},\n",
    "    {'b': 2, 'c': 1, 'a': 4},\n",
    "    {'b': 3, 'c': 8, 'a': 2},\n",
    "]\n",
    "my_list = []\n",
    "\n",
    "for real in a:\n",
    "    if r\n",
    "    \n",
    "\n"
   ]
  },
  {
   "cell_type": "code",
   "execution_count": null,
   "id": "41d8cf0b",
   "metadata": {},
   "outputs": [],
   "source": [
    "from pprint import pprint\n",
    "\n",
    "\n",
    "def ranking():\n",
    "    mv_list = []\n",
    "    vote = data['results']\n",
    "    for mv in vote:\n",
    "        mv_list.append(mv)\n",
    "    mv_list.sort(key = lambda item: item['vote_average'], reverse = True)\n",
    "    return mv_list[0:5]\n",
    "\n",
    "\n",
    "if __name__ == '__main__':\n",
    "    \"\"\"\n",
    "    popular 영화목록을 정렬하여 평점순으로 5개 영화.\n",
    "    \"\"\"\n",
    "    pprint(ranking())\n",
    "    # => 영화정보 순서대로 출력"
   ]
  },
  {
   "cell_type": "code",
   "execution_count": null,
   "id": "183541af",
   "metadata": {},
   "outputs": [],
   "source": []
  }
 ],
 "metadata": {
  "kernelspec": {
   "display_name": "Python 3 (ipykernel)",
   "language": "python",
   "name": "python3"
  },
  "language_info": {
   "codemirror_mode": {
    "name": "ipython",
    "version": 3
   },
   "file_extension": ".py",
   "mimetype": "text/x-python",
   "name": "python",
   "nbconvert_exporter": "python",
   "pygments_lexer": "ipython3",
   "version": "3.10.9"
  }
 },
 "nbformat": 4,
 "nbformat_minor": 5
}
